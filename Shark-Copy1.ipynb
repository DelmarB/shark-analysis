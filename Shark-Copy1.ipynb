{
 "cells": [
  {
   "cell_type": "code",
   "execution_count": 1,
   "id": "c01e994b-5650-443a-bcb9-dfa550eb0e90",
   "metadata": {},
   "outputs": [],
   "source": [
    "import pandas as pd"
   ]
  },
  {
   "cell_type": "code",
   "execution_count": 2,
   "id": "d426e5ea-15b5-4580-8698-0023bd53f038",
   "metadata": {},
   "outputs": [
    {
     "data": {
      "text/html": [
       "<div>\n",
       "<style scoped>\n",
       "    .dataframe tbody tr th:only-of-type {\n",
       "        vertical-align: middle;\n",
       "    }\n",
       "\n",
       "    .dataframe tbody tr th {\n",
       "        vertical-align: top;\n",
       "    }\n",
       "\n",
       "    .dataframe thead th {\n",
       "        text-align: right;\n",
       "    }\n",
       "</style>\n",
       "<table border=\"1\" class=\"dataframe\">\n",
       "  <thead>\n",
       "    <tr style=\"text-align: right;\">\n",
       "      <th></th>\n",
       "      <th>Date</th>\n",
       "      <th>Year</th>\n",
       "      <th>Type</th>\n",
       "      <th>Country</th>\n",
       "      <th>State</th>\n",
       "      <th>Location</th>\n",
       "      <th>Activity</th>\n",
       "      <th>Name</th>\n",
       "      <th>Sex</th>\n",
       "      <th>Age</th>\n",
       "      <th>...</th>\n",
       "      <th>Species</th>\n",
       "      <th>Source</th>\n",
       "      <th>pdf</th>\n",
       "      <th>href formula</th>\n",
       "      <th>href</th>\n",
       "      <th>Case Number</th>\n",
       "      <th>Case Number.1</th>\n",
       "      <th>original order</th>\n",
       "      <th>Unnamed: 21</th>\n",
       "      <th>Unnamed: 22</th>\n",
       "    </tr>\n",
       "  </thead>\n",
       "  <tbody>\n",
       "    <tr>\n",
       "      <th>0</th>\n",
       "      <td>2025-06-17 00:00:00</td>\n",
       "      <td>2025.0</td>\n",
       "      <td>Unprovoked</td>\n",
       "      <td>USA</td>\n",
       "      <td>South Carolina</td>\n",
       "      <td>Hilton Head Island</td>\n",
       "      <td>Swimming</td>\n",
       "      <td>Not stated</td>\n",
       "      <td>F</td>\n",
       "      <td>12</td>\n",
       "      <td>...</td>\n",
       "      <td>Not stated</td>\n",
       "      <td>Kevin McMurray Trackingsharks.com:</td>\n",
       "      <td>NaN</td>\n",
       "      <td>NaN</td>\n",
       "      <td>NaN</td>\n",
       "      <td>NaN</td>\n",
       "      <td>NaN</td>\n",
       "      <td>NaN</td>\n",
       "      <td>NaN</td>\n",
       "      <td>NaN</td>\n",
       "    </tr>\n",
       "    <tr>\n",
       "      <th>1</th>\n",
       "      <td>2025-06-11 00:00:00</td>\n",
       "      <td>2025.0</td>\n",
       "      <td>Unprovoked</td>\n",
       "      <td>USA</td>\n",
       "      <td>Florida</td>\n",
       "      <td>Boca Grande</td>\n",
       "      <td>Snorkeling</td>\n",
       "      <td>Leah Lendel</td>\n",
       "      <td>F</td>\n",
       "      <td>9</td>\n",
       "      <td>...</td>\n",
       "      <td>Bull shark</td>\n",
       "      <td>Kevin McMurray Trackingsharks.com: James Kings...</td>\n",
       "      <td>NaN</td>\n",
       "      <td>NaN</td>\n",
       "      <td>NaN</td>\n",
       "      <td>NaN</td>\n",
       "      <td>NaN</td>\n",
       "      <td>NaN</td>\n",
       "      <td>NaN</td>\n",
       "      <td>NaN</td>\n",
       "    </tr>\n",
       "    <tr>\n",
       "      <th>2</th>\n",
       "      <td>2025-05-29 00:00:00</td>\n",
       "      <td>2025.0</td>\n",
       "      <td>Unprovoked</td>\n",
       "      <td>USA</td>\n",
       "      <td>North Carolina</td>\n",
       "      <td>Sunset Beach</td>\n",
       "      <td>Swimming</td>\n",
       "      <td>Sean Barton</td>\n",
       "      <td>M</td>\n",
       "      <td>26</td>\n",
       "      <td>...</td>\n",
       "      <td>Not stated</td>\n",
       "      <td>Kevin McMurray Trackingsharks.com: Clay Crewel...</td>\n",
       "      <td>NaN</td>\n",
       "      <td>NaN</td>\n",
       "      <td>NaN</td>\n",
       "      <td>NaN</td>\n",
       "      <td>NaN</td>\n",
       "      <td>NaN</td>\n",
       "      <td>NaN</td>\n",
       "      <td>NaN</td>\n",
       "    </tr>\n",
       "    <tr>\n",
       "      <th>3</th>\n",
       "      <td>2025-05-26 00:00:00</td>\n",
       "      <td>2025.0</td>\n",
       "      <td>Unprovoked</td>\n",
       "      <td>Vanuatu</td>\n",
       "      <td>South Santo</td>\n",
       "      <td>Espiitu Santo Island</td>\n",
       "      <td>Swimming</td>\n",
       "      <td>Tumas</td>\n",
       "      <td>M</td>\n",
       "      <td>14</td>\n",
       "      <td>...</td>\n",
       "      <td>Not stated</td>\n",
       "      <td>Kevin McMurray Trackingsharks.com</td>\n",
       "      <td>NaN</td>\n",
       "      <td>NaN</td>\n",
       "      <td>NaN</td>\n",
       "      <td>NaN</td>\n",
       "      <td>NaN</td>\n",
       "      <td>NaN</td>\n",
       "      <td>NaN</td>\n",
       "      <td>NaN</td>\n",
       "    </tr>\n",
       "    <tr>\n",
       "      <th>4</th>\n",
       "      <td>2025-05-15 00:00:00</td>\n",
       "      <td>2025.0</td>\n",
       "      <td>Unprovoked</td>\n",
       "      <td>Australia</td>\n",
       "      <td>South Australia</td>\n",
       "      <td>Port Noarlunga</td>\n",
       "      <td>Swimming</td>\n",
       "      <td>Richard Vinall</td>\n",
       "      <td>M</td>\n",
       "      <td>66</td>\n",
       "      <td>...</td>\n",
       "      <td>Not stated</td>\n",
       "      <td>Simon DeMarchi: Todd Smith: 9 News:ABC News</td>\n",
       "      <td>NaN</td>\n",
       "      <td>NaN</td>\n",
       "      <td>NaN</td>\n",
       "      <td>NaN</td>\n",
       "      <td>NaN</td>\n",
       "      <td>NaN</td>\n",
       "      <td>NaN</td>\n",
       "      <td>NaN</td>\n",
       "    </tr>\n",
       "  </tbody>\n",
       "</table>\n",
       "<p>5 rows × 23 columns</p>\n",
       "</div>"
      ],
      "text/plain": [
       "                  Date    Year        Type    Country            State  \\\n",
       "0  2025-06-17 00:00:00  2025.0  Unprovoked        USA   South Carolina   \n",
       "1  2025-06-11 00:00:00  2025.0  Unprovoked        USA          Florida   \n",
       "2  2025-05-29 00:00:00  2025.0  Unprovoked        USA   North Carolina   \n",
       "3  2025-05-26 00:00:00  2025.0  Unprovoked    Vanuatu      South Santo   \n",
       "4  2025-05-15 00:00:00  2025.0  Unprovoked  Australia  South Australia   \n",
       "\n",
       "               Location    Activity            Name Sex Age  ...    Species   \\\n",
       "0  Hilton Head Island      Swimming      Not stated   F  12  ...  Not stated   \n",
       "1           Boca Grande  Snorkeling     Leah Lendel   F   9  ...  Bull shark   \n",
       "2          Sunset Beach    Swimming     Sean Barton   M  26  ...  Not stated   \n",
       "3  Espiitu Santo Island    Swimming           Tumas   M  14  ...  Not stated   \n",
       "4        Port Noarlunga    Swimming  Richard Vinall   M  66  ...  Not stated   \n",
       "\n",
       "                                              Source  pdf href formula href  \\\n",
       "0                Kevin McMurray Trackingsharks.com:   NaN          NaN  NaN   \n",
       "1  Kevin McMurray Trackingsharks.com: James Kings...  NaN          NaN  NaN   \n",
       "2  Kevin McMurray Trackingsharks.com: Clay Crewel...  NaN          NaN  NaN   \n",
       "3                  Kevin McMurray Trackingsharks.com  NaN          NaN  NaN   \n",
       "4        Simon DeMarchi: Todd Smith: 9 News:ABC News  NaN          NaN  NaN   \n",
       "\n",
       "  Case Number Case Number.1 original order Unnamed: 21 Unnamed: 22  \n",
       "0         NaN           NaN            NaN         NaN         NaN  \n",
       "1         NaN           NaN            NaN         NaN         NaN  \n",
       "2         NaN           NaN            NaN         NaN         NaN  \n",
       "3         NaN           NaN            NaN         NaN         NaN  \n",
       "4         NaN           NaN            NaN         NaN         NaN  \n",
       "\n",
       "[5 rows x 23 columns]"
      ]
     },
     "execution_count": 2,
     "metadata": {},
     "output_type": "execute_result"
    }
   ],
   "source": [
    "#\"C:\\Users\\User\\Desktop\\IronHack\\Week_2\\Day1/GSAF5.xls\")\n",
    "shark_df = pd.read_excel('GSAF5.xls')\n",
    "shark_df.head()"
   ]
  },
  {
   "cell_type": "code",
   "execution_count": null,
   "id": "dff0d48c-736f-48bd-85fb-35f74469aed1",
   "metadata": {},
   "outputs": [],
   "source": [
    "shark_df = shark_df.rename(columns={ col: col.replace(\" \",\"\").lower() for col in shark_df.columns })"
   ]
  },
  {
   "cell_type": "code",
   "execution_count": null,
   "id": "f45d0dd0-3d6d-48b5-be87-b59c1069b77e",
   "metadata": {},
   "outputs": [],
   "source": [
    "shark_df.head()"
   ]
  },
  {
   "cell_type": "code",
   "execution_count": null,
   "id": "8f9bb9b4-3d89-4017-8407-de011e7acde2",
   "metadata": {},
   "outputs": [],
   "source": [
    "shark_df_2 = shark_df[[ \"date\", \"year\",\"country\", \"state\", \"location\", \"activity\", \"injury\",\"age\",\"species\"]]\n",
    "# Species appers as not an index. "
   ]
  },
  {
   "cell_type": "code",
   "execution_count": null,
   "id": "6825f40b-fed5-4026-9bd7-39b7ac4238b9",
   "metadata": {},
   "outputs": [],
   "source": [
    "shark_df_2.head()"
   ]
  },
  {
   "cell_type": "code",
   "execution_count": null,
   "id": "0f649a0d-3094-4b28-b462-6de559255e45",
   "metadata": {},
   "outputs": [],
   "source": [
    "shark_df_2.shape"
   ]
  },
  {
   "cell_type": "code",
   "execution_count": null,
   "id": "7e83e08a-de0a-4988-8695-a59773c01773",
   "metadata": {},
   "outputs": [],
   "source": [
    "# Clean & format everything but dates.\n",
    "# Apply at least five data cleaning techniques, such as handling null values, dropping columns, \n",
    "# removing duplicated data, manipulating strings, formatting the data, etc., to prepare the dataset for analysis."
   ]
  },
  {
   "cell_type": "code",
   "execution_count": null,
   "id": "3821c6bf-fa0c-4f53-83d9-225a1fbc8185",
   "metadata": {},
   "outputs": [],
   "source": [
    "# To check for null values\n",
    "shark_df_2.isna().any()"
   ]
  },
  {
   "cell_type": "code",
   "execution_count": null,
   "id": "0479216e-a632-42bb-9c99-58d311f9d2bb",
   "metadata": {},
   "outputs": [],
   "source": [
    "shark_df_2.dtypes"
   ]
  },
  {
   "cell_type": "code",
   "execution_count": null,
   "id": "74466da5-2315-4ba9-bef9-b9f942853244",
   "metadata": {},
   "outputs": [],
   "source": [
    "# Count the number of null values in each column\n",
    "shark_df_2.isna().sum()"
   ]
  },
  {
   "cell_type": "code",
   "execution_count": null,
   "id": "caa7a133-69c9-4b16-b601-62d2e85f32a3",
   "metadata": {},
   "outputs": [],
   "source": [
    "shark_df_2[shark_df_2[\"country\"].isna()].head()\n",
    "# This missiang values we can drop (delete)"
   ]
  },
  {
   "cell_type": "code",
   "execution_count": null,
   "id": "4397e7e6-3b94-4573-b003-7f011dfd86a6",
   "metadata": {},
   "outputs": [],
   "source": [
    "shark_df_2[shark_df_2[\"injury\"].isna()].head()\n",
    "# This we can attribute NaN as a generic injury. If have an attack probably have an injury. "
   ]
  },
  {
   "cell_type": "code",
   "execution_count": null,
   "id": "2be05e36-4d32-4cb5-9c64-59f660caad5b",
   "metadata": {},
   "outputs": [],
   "source": [
    "shark_df_2[shark_df_2[\"age\"].isna()]\n",
    "# We can try to use mean to replace the values"
   ]
  },
  {
   "cell_type": "code",
   "execution_count": null,
   "id": "a7ee0d3e-0e1c-41fd-9c51-699cde9dce5a",
   "metadata": {},
   "outputs": [],
   "source": [
    "shark_df_2[shark_df_2[\"year\"].isna()]\n",
    "# Take the yers inside Data and put in column year"
   ]
  },
  {
   "cell_type": "code",
   "execution_count": null,
   "id": "357ff54f-0c90-40a1-a71b-08c41eee78f7",
   "metadata": {},
   "outputs": [],
   "source": [
    "shark_df_2[shark_df_2[\"activity\"].isna()]\n",
    "# We can replace missing values as No Informed"
   ]
  },
  {
   "cell_type": "code",
   "execution_count": null,
   "id": "2af55f57-5882-4edb-bbfe-bb2c7c91871c",
   "metadata": {},
   "outputs": [],
   "source": [
    "# NA values for location\n",
    "shark_df_2[shark_df_2[\"location\"].isna()].head()"
   ]
  },
  {
   "cell_type": "code",
   "execution_count": null,
   "id": "f8944707-201e-4f6a-a8b7-a57739c46a92",
   "metadata": {},
   "outputs": [],
   "source": [
    "shark_df_2[shark_df_2[\"state\"].isna()].head(5)\n",
    "# We can try to use an IF using the location to complete the State"
   ]
  },
  {
   "cell_type": "code",
   "execution_count": null,
   "id": "e34b5e4d-4688-45d0-9ba9-2cbdd1371652",
   "metadata": {},
   "outputs": [],
   "source": [
    "# Show that is none values NA in country, state and location \n",
    "shark_df_2.isna().any()"
   ]
  },
  {
   "cell_type": "code",
   "execution_count": null,
   "id": "fbfe674b-ed8a-4d16-be74-7cc3324c56cb",
   "metadata": {},
   "outputs": [],
   "source": [
    "shark_df_2[shark_df_2[\"location\"].isna()].head(5)\n",
    "# We can pput something as Not reported, do not miss all information as tha majority of the info have the rest of the info"
   ]
  },
  {
   "cell_type": "code",
   "execution_count": null,
   "id": "91ff5c41-169b-4e02-ab8e-cd2f01a367cd",
   "metadata": {},
   "outputs": [],
   "source": [
    "shark_df_2[shark_df_2[\"state\"]==\"New South Wales\"][\"location\"].nunique()"
   ]
  },
  {
   "cell_type": "code",
   "execution_count": null,
   "id": "b82a9181-6c0b-46cf-868f-e92d7245765a",
   "metadata": {},
   "outputs": [],
   "source": [
    "# function to drop the NA values in country, now we have 6970 rows\n",
    "shark_df_2 = shark_df_2.dropna(subset=['country'])"
   ]
  },
  {
   "cell_type": "code",
   "execution_count": null,
   "id": "84a2fa5e-0f27-45e1-abc8-cf4725503baf",
   "metadata": {},
   "outputs": [],
   "source": [
    "shark_df_2.shape"
   ]
  },
  {
   "cell_type": "code",
   "execution_count": null,
   "id": "fa3b0a76-60b4-404b-a1cf-e76a7a08a3e0",
   "metadata": {},
   "outputs": [],
   "source": [
    "# to put all countries in lowercaps\n",
    "shark_df_2[\"country\"] = shark_df_2[\"country\"].apply(lambda x: x.lower())"
   ]
  },
  {
   "cell_type": "code",
   "execution_count": null,
   "id": "8e7c423d-9f7c-4693-827f-22f81b0b635d",
   "metadata": {},
   "outputs": [],
   "source": [
    "shark_df_2.shape"
   ]
  },
  {
   "cell_type": "code",
   "execution_count": null,
   "id": "e981dee3-3689-43b9-b9e7-832f996cacf9",
   "metadata": {},
   "outputs": [],
   "source": [
    "shark_df_2[\"country\"].nunique()"
   ]
  },
  {
   "cell_type": "code",
   "execution_count": null,
   "id": "57b52482-855a-40f6-9b6c-d6b82e35d520",
   "metadata": {},
   "outputs": [],
   "source": [
    "shark_df_2[shark_df_2[\"country\"] == \"australia\"]"
   ]
  },
  {
   "cell_type": "code",
   "execution_count": null,
   "id": "f120b28e-abe8-4873-8934-015593334738",
   "metadata": {},
   "outputs": [],
   "source": [
    "shark_df_2[\"country\"].value_counts().head()"
   ]
  },
  {
   "cell_type": "code",
   "execution_count": null,
   "id": "59faa0bc-c105-4204-9ed4-6d632d7305b3",
   "metadata": {},
   "outputs": [],
   "source": [
    "# filter country as australia\n",
    "shark_df_2[shark_df_2[\"country\"] == \"australia\"][\"state\"].unique()"
   ]
  },
  {
   "cell_type": "code",
   "execution_count": null,
   "id": "fc8bd215-2903-486b-a821-5645805eccce",
   "metadata": {},
   "outputs": [],
   "source": [
    "shark_df_2[(shark_df_2[\"country\"] == \"australia\") & (shark_df_2[\"state\"].isna())].head()\n",
    "# Inside the filter, country, already with cleaning data, using \"australia\". Is applied the function for NA in state. Are only 15. "
   ]
  },
  {
   "cell_type": "code",
   "execution_count": null,
   "id": "d98e9716-e215-49f5-8d3d-ba8f0d50ff22",
   "metadata": {},
   "outputs": [],
   "source": [
    "# Reshaping the names of the states:\n",
    "shark_df_2[\"state\"] = shark_df_2[\"state\"].replace({\"WA\": \"Western Australia\"})\n",
    "shark_df_2[\"state\"] = shark_df_2[\"state\"].replace({\"Westerm Australia\": \"Western Australia\"})\n",
    "shark_df_2[\"state\"] = shark_df_2[\"state\"].replace({\"Westerm  Australia\": \"Western Australia\"})\n",
    "shark_df_2[\"state\"] = shark_df_2[\"state\"].replace({\"Western  Australia\": \"Western Australia\"})\n",
    "shark_df_2[\"state\"] = shark_df_2[\"state\"].replace({\"NSW\": \"New South Wales\"})\n",
    "shark_df_2[\"state\"] = shark_df_2[\"state\"].replace({\"New  South Wales\": \"New South Wales\"})\n",
    "shark_df_2[\"state\"] = shark_df_2[\"state\"].replace({\"New South ales\": \"New South Wales\"})\n",
    "shark_df_2[\"state\"] = shark_df_2[\"state\"].replace({\"New South Wales \": \"New South Wales\"})\n",
    "shark_df_2[\"state\"] = shark_df_2[\"state\"].replace({\"Queensland \": \"Queensland\"})\n",
    "shark_df_2[\"state\"] = shark_df_2[\"state\"].replace({\"Victoria \": \"Victoria\"})\n",
    "shark_df_2[\"state\"] = shark_df_2[\"state\"].replace({\"Victoria \": \"Victoria\"})\n",
    "shark_df_2[\"state\"] = shark_df_2[\"state\"].replace({\"Northern Territory \": \"Northern Territory\"})\n",
    "shark_df_2[\"state\"] = shark_df_2[\"state\"].replace({\"Torres Strait \": \"Torres Strait\"})"
   ]
  },
  {
   "cell_type": "code",
   "execution_count": null,
   "id": "35cb78e3-2e12-4991-bd7c-a91fe46c1b59",
   "metadata": {},
   "outputs": [],
   "source": [
    "# Attributing the value Non indicate for the NA in location \n",
    "shark_df_2['location'] = shark_df_2['location'].fillna(\"Non Indicate\")"
   ]
  },
  {
   "cell_type": "code",
   "execution_count": null,
   "id": "c4b3bda0-5d35-4e8c-be44-9a3bbde621ed",
   "metadata": {},
   "outputs": [],
   "source": [
    "shark_df_2 = shark_df_2[(shark_df_2[\"country\"] == \"australia\") & (shark_df_2[\"state\"] == 'New South Wales')]\n",
    "# Apllying the filter in state for only in New SoutH Wales. We have 528 incidentes."
   ]
  },
  {
   "cell_type": "code",
   "execution_count": null,
   "id": "91b061f3-7f68-4802-81af-dc908ef64a91",
   "metadata": {},
   "outputs": [],
   "source": [
    "shark_df_2['species'].isna().sum()"
   ]
  },
  {
   "cell_type": "code",
   "execution_count": null,
   "id": "e831515f-f9f3-43f4-b0e0-2d9f47101597",
   "metadata": {},
   "outputs": [],
   "source": [
    "shark_df_2['species'] = shark_df_2['species'].fillna(\"Non Indicated\")"
   ]
  },
  {
   "cell_type": "code",
   "execution_count": null,
   "id": "4e5aa6fd-4f56-42ad-81b4-6fe0030ee6d9",
   "metadata": {},
   "outputs": [],
   "source": [
    "shark_df_2['species'].isna().sum()"
   ]
  },
  {
   "cell_type": "code",
   "execution_count": null,
   "id": "58292a60-0f4e-40cf-899d-df309a84f15c",
   "metadata": {},
   "outputs": [],
   "source": [
    "# FINAL VERSION \n",
    "\n",
    "shark_df_2"
   ]
  },
  {
   "cell_type": "code",
   "execution_count": null,
   "id": "c17bfd32-3291-4073-a5cf-ce939057f9a7",
   "metadata": {},
   "outputs": [],
   "source": [
    "shark_df_2[\"location\"].value_counts().head(30)"
   ]
  },
  {
   "cell_type": "code",
   "execution_count": null,
   "id": "4fe725c1-5802-434a-b8bf-0934efa8ed6e",
   "metadata": {},
   "outputs": [],
   "source": []
  },
  {
   "cell_type": "code",
   "execution_count": null,
   "id": "afcee8be-50ae-4d6f-b9bf-3d0fa3448641",
   "metadata": {},
   "outputs": [],
   "source": [
    "shark_df_2[\"state\"].value_counts().head(30)"
   ]
  },
  {
   "cell_type": "code",
   "execution_count": null,
   "id": "09034819-281c-4928-861f-cad88fb028f3",
   "metadata": {},
   "outputs": [],
   "source": [
    "#Delmar: finding the different species of sharks that attacked.\n",
    "shark_df_2[\"species\"].unique()"
   ]
  },
  {
   "cell_type": "code",
   "execution_count": null,
   "id": "47114cbc-4c64-479c-a0d5-da057d0cc6b8",
   "metadata": {},
   "outputs": [],
   "source": []
  },
  {
   "cell_type": "code",
   "execution_count": null,
   "id": "c81d6df2-5a08-47cf-9d82-5325d219773c",
   "metadata": {},
   "outputs": [],
   "source": []
  }
 ],
 "metadata": {
  "kernelspec": {
   "display_name": "Python 3 (ipykernel)",
   "language": "python",
   "name": "python3"
  },
  "language_info": {
   "codemirror_mode": {
    "name": "ipython",
    "version": 3
   },
   "file_extension": ".py",
   "mimetype": "text/x-python",
   "name": "python",
   "nbconvert_exporter": "python",
   "pygments_lexer": "ipython3",
   "version": "3.12.7"
  }
 },
 "nbformat": 4,
 "nbformat_minor": 5
}
